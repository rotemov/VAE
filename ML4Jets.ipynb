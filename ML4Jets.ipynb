{
 "cells": [
  {
   "cell_type": "code",
   "execution_count": 2,
   "id": "d1795b95",
   "metadata": {},
   "outputs": [],
   "source": [
    "import importlib\n",
    "import sys\n",
    "from vae_model import VAE\n",
    "from hdf_dataset import HDFDataset\n",
    "import pandas as pd\n",
    "import numpy as np\n",
    "from sklearn import linear_model, metrics\n",
    "from matplotlib import pyplot as plt\n",
    "from sklearn.tree import DecisionTreeClassifier\n",
    "from sklearn.ensemble import AdaBoostClassifier\n",
    "from sklearn.neural_network import MLPClassifier\n",
    "from sklearn.decomposition import PCA\n",
    "from sklearn.model_selection import train_test_split\n",
    "from sklearn.preprocessing import PolynomialFeatures\n",
    "import torch\n",
    "import torch.utils.data as data_utils\n",
    "import pickle"
   ]
  },
  {
   "cell_type": "markdown",
   "id": "f427ecd1",
   "metadata": {},
   "source": [
    "# Preprocessing\n",
    "We normalize the features, shuffle it and create a training-test split. In addition I check the effect of second order polynomial features."
   ]
  },
  {
   "cell_type": "code",
   "execution_count": 3,
   "id": "fc57247e",
   "metadata": {},
   "outputs": [
    {
     "data": {
      "text/html": "<div>\n<style scoped>\n    .dataframe tbody tr th:only-of-type {\n        vertical-align: middle;\n    }\n\n    .dataframe tbody tr th {\n        vertical-align: top;\n    }\n\n    .dataframe thead th {\n        text-align: right;\n    }\n</style>\n<table border=\"1\" class=\"dataframe\">\n  <thead>\n    <tr style=\"text-align: right;\">\n      <th></th>\n      <th>1</th>\n      <th>pxj1</th>\n      <th>pyj1</th>\n      <th>pzj1</th>\n      <th>mj1</th>\n      <th>tau1j1</th>\n      <th>tau2j1</th>\n      <th>tau3j1</th>\n      <th>pxj2</th>\n      <th>pyj2</th>\n      <th>pzj2</th>\n      <th>mj2</th>\n      <th>tau1j2</th>\n      <th>tau2j2</th>\n      <th>tau3j2</th>\n    </tr>\n  </thead>\n  <tbody>\n    <tr>\n      <th>count</th>\n      <td>1100000.0</td>\n      <td>1.100000e+06</td>\n      <td>1.100000e+06</td>\n      <td>1.100000e+06</td>\n      <td>1.100000e+06</td>\n      <td>1.100000e+06</td>\n      <td>1.100000e+06</td>\n      <td>1.100000e+06</td>\n      <td>1.100000e+06</td>\n      <td>1.100000e+06</td>\n      <td>1.100000e+06</td>\n      <td>1.100000e+06</td>\n      <td>1.100000e+06</td>\n      <td>1.100000e+06</td>\n      <td>1.100000e+06</td>\n    </tr>\n    <tr>\n      <th>mean</th>\n      <td>1.0</td>\n      <td>-1.327996e+00</td>\n      <td>2.602047e+00</td>\n      <td>1.200619e-01</td>\n      <td>2.195990e+02</td>\n      <td>1.363843e+02</td>\n      <td>5.571819e+01</td>\n      <td>3.742071e+01</td>\n      <td>1.132151e+00</td>\n      <td>-2.496534e+00</td>\n      <td>-8.540738e-01</td>\n      <td>2.089902e+02</td>\n      <td>1.290355e+02</td>\n      <td>5.338557e+01</td>\n      <td>3.605997e+01</td>\n    </tr>\n    <tr>\n      <th>std</th>\n      <td>0.0</td>\n      <td>1.001400e+03</td>\n      <td>1.001730e+03</td>\n      <td>1.153441e+03</td>\n      <td>1.647181e+02</td>\n      <td>1.382575e+02</td>\n      <td>4.940572e+01</td>\n      <td>2.998556e+01</td>\n      <td>8.847728e+02</td>\n      <td>8.851543e+02</td>\n      <td>1.163099e+03</td>\n      <td>1.527055e+02</td>\n      <td>1.286603e+02</td>\n      <td>4.670867e+01</td>\n      <td>2.837653e+01</td>\n    </tr>\n    <tr>\n      <th>min</th>\n      <td>1.0</td>\n      <td>-3.880100e+03</td>\n      <td>-3.320690e+03</td>\n      <td>-5.587720e+03</td>\n      <td>-2.642900e-05</td>\n      <td>0.000000e+00</td>\n      <td>0.000000e+00</td>\n      <td>0.000000e+00</td>\n      <td>-3.740480e+03</td>\n      <td>-3.406180e+03</td>\n      <td>-5.490730e+03</td>\n      <td>-3.411970e-05</td>\n      <td>0.000000e+00</td>\n      <td>0.000000e+00</td>\n      <td>0.000000e+00</td>\n    </tr>\n    <tr>\n      <th>25%</th>\n      <td>1.0</td>\n      <td>-9.695655e+02</td>\n      <td>-9.663385e+02</td>\n      <td>-7.231380e+02</td>\n      <td>9.768073e+01</td>\n      <td>4.287708e+01</td>\n      <td>2.281695e+01</td>\n      <td>1.619798e+01</td>\n      <td>-7.972635e+02</td>\n      <td>-8.014985e+02</td>\n      <td>-7.380858e+02</td>\n      <td>9.543755e+01</td>\n      <td>4.065460e+01</td>\n      <td>2.221150e+01</td>\n      <td>1.605428e+01</td>\n    </tr>\n    <tr>\n      <th>50%</th>\n      <td>1.0</td>\n      <td>-1.785130e+00</td>\n      <td>5.091580e+00</td>\n      <td>1.598670e+00</td>\n      <td>1.629155e+02</td>\n      <td>8.372715e+01</td>\n      <td>4.143035e+01</td>\n      <td>2.934835e+01</td>\n      <td>2.593420e+00</td>\n      <td>-5.038455e+00</td>\n      <td>2.205830e-01</td>\n      <td>1.597260e+02</td>\n      <td>8.109740e+01</td>\n      <td>3.981480e+01</td>\n      <td>2.856560e+01</td>\n    </tr>\n    <tr>\n      <th>75%</th>\n      <td>1.0</td>\n      <td>9.659120e+02</td>\n      <td>9.702918e+02</td>\n      <td>7.237895e+02</td>\n      <td>2.998730e+02</td>\n      <td>1.776495e+02</td>\n      <td>7.149420e+01</td>\n      <td>4.973332e+01</td>\n      <td>8.002305e+02</td>\n      <td>7.979622e+02</td>\n      <td>7.365130e+02</td>\n      <td>2.836275e+02</td>\n      <td>1.699862e+02</td>\n      <td>6.866177e+01</td>\n      <td>4.770973e+01</td>\n    </tr>\n    <tr>\n      <th>max</th>\n      <td>1.0</td>\n      <td>3.852430e+03</td>\n      <td>3.484770e+03</td>\n      <td>6.155580e+03</td>\n      <td>1.615690e+03</td>\n      <td>1.473960e+03</td>\n      <td>7.564940e+02</td>\n      <td>4.504640e+02</td>\n      <td>3.630150e+03</td>\n      <td>3.295420e+03</td>\n      <td>5.620940e+03</td>\n      <td>1.508690e+03</td>\n      <td>1.464820e+03</td>\n      <td>7.450410e+02</td>\n      <td>4.914610e+02</td>\n    </tr>\n  </tbody>\n</table>\n</div>",
      "text/plain": "               1          pxj1          pyj1          pzj1           mj1  \\\ncount  1100000.0  1.100000e+06  1.100000e+06  1.100000e+06  1.100000e+06   \nmean         1.0 -1.327996e+00  2.602047e+00  1.200619e-01  2.195990e+02   \nstd          0.0  1.001400e+03  1.001730e+03  1.153441e+03  1.647181e+02   \nmin          1.0 -3.880100e+03 -3.320690e+03 -5.587720e+03 -2.642900e-05   \n25%          1.0 -9.695655e+02 -9.663385e+02 -7.231380e+02  9.768073e+01   \n50%          1.0 -1.785130e+00  5.091580e+00  1.598670e+00  1.629155e+02   \n75%          1.0  9.659120e+02  9.702918e+02  7.237895e+02  2.998730e+02   \nmax          1.0  3.852430e+03  3.484770e+03  6.155580e+03  1.615690e+03   \n\n             tau1j1        tau2j1        tau3j1          pxj2          pyj2  \\\ncount  1.100000e+06  1.100000e+06  1.100000e+06  1.100000e+06  1.100000e+06   \nmean   1.363843e+02  5.571819e+01  3.742071e+01  1.132151e+00 -2.496534e+00   \nstd    1.382575e+02  4.940572e+01  2.998556e+01  8.847728e+02  8.851543e+02   \nmin    0.000000e+00  0.000000e+00  0.000000e+00 -3.740480e+03 -3.406180e+03   \n25%    4.287708e+01  2.281695e+01  1.619798e+01 -7.972635e+02 -8.014985e+02   \n50%    8.372715e+01  4.143035e+01  2.934835e+01  2.593420e+00 -5.038455e+00   \n75%    1.776495e+02  7.149420e+01  4.973332e+01  8.002305e+02  7.979622e+02   \nmax    1.473960e+03  7.564940e+02  4.504640e+02  3.630150e+03  3.295420e+03   \n\n               pzj2           mj2        tau1j2        tau2j2        tau3j2  \ncount  1.100000e+06  1.100000e+06  1.100000e+06  1.100000e+06  1.100000e+06  \nmean  -8.540738e-01  2.089902e+02  1.290355e+02  5.338557e+01  3.605997e+01  \nstd    1.163099e+03  1.527055e+02  1.286603e+02  4.670867e+01  2.837653e+01  \nmin   -5.490730e+03 -3.411970e-05  0.000000e+00  0.000000e+00  0.000000e+00  \n25%   -7.380858e+02  9.543755e+01  4.065460e+01  2.221150e+01  1.605428e+01  \n50%    2.205830e-01  1.597260e+02  8.109740e+01  3.981480e+01  2.856560e+01  \n75%    7.365130e+02  2.836275e+02  1.699862e+02  6.866177e+01  4.770973e+01  \nmax    5.620940e+03  1.508690e+03  1.464820e+03  7.450410e+02  4.914610e+02  "
     },
     "execution_count": 3,
     "metadata": {},
     "output_type": "execute_result"
    }
   ],
   "source": [
    "POLY_DEG = 1\n",
    "df = pd.read_hdf(\"events_anomalydetection_v2.features.h5\")\n",
    "y = df[\"label\"]\n",
    "X = df.loc[:, df.columns != \"label\"]\n",
    "#mean = X.mean()\n",
    "#std = X.std()\n",
    "#X = (X - mean)/std\n",
    "poly = PolynomialFeatures(POLY_DEG)\n",
    "X = pd.DataFrame(poly.fit_transform(X), columns=poly.get_feature_names(X.columns))\n",
    "X_train, X_test, y_train, y_test = train_test_split(X, y, test_size=0.1, random_state=42)\n",
    "X.describe()"
   ]
  },
  {
   "cell_type": "markdown",
   "id": "ed64df0f",
   "metadata": {},
   "source": [
    "## Visualization\n",
    "Below I present histograms for all of the features.\n",
    "Polynomial features seem to improve signal-bg separation."
   ]
  },
  {
   "cell_type": "code",
   "execution_count": 52,
   "id": "aa56b47a",
   "metadata": {},
   "outputs": [
    {
     "data": {
      "text/plain": "array([[<AxesSubplot:title={'center':'mj1'}>,\n        <AxesSubplot:title={'center':'mj2'}>],\n       [<AxesSubplot:title={'center':'tau1j1'}>,\n        <AxesSubplot:title={'center':'tau1j2'}>]], dtype=object)"
     },
     "execution_count": 52,
     "metadata": {},
     "output_type": "execute_result"
    },
    {
     "data": {
      "text/plain": "<Figure size 432x288 with 4 Axes>",
      "image/png": "[encoded data removed]"
     },
     "metadata": {
      "needs_background": "light"
     },
     "output_type": "display_data"
    },
    {
     "data": {
      "text/plain": "<Figure size 432x288 with 4 Axes>",
      "image/png": "[encoded data removed]"
     },
     "metadata": {
      "needs_background": "light"
     },
     "output_type": "display_data"
    }
   ],
   "source": [
    "X_test.hist(column=['mj1', 'mj2', 'tau1j1', 'tau1j2'], bins=50)\n",
    "X_test[y_test == 1].hist(column=['mj1', 'mj2', 'tau1j1', 'tau1j2'], bins=50)"
   ]
  },
  {
   "cell_type": "markdown",
   "source": [
    "Plots of all variables"
   ],
   "metadata": {
    "collapsed": false,
    "pycharm": {
     "name": "#%% md\n"
    }
   }
  },
  {
   "cell_type": "code",
   "execution_count": null,
   "outputs": [],
   "source": [
    "for column in X_test.columns:\n",
    "    X_test.hist(column=column, bins=50)\n",
    "    X_test[y_test == 1].hist(column=column, bins=50)"
   ],
   "metadata": {
    "collapsed": false,
    "pycharm": {
     "name": "#%%\n",
     "is_executing": true
    }
   }
  },
  {
   "cell_type": "markdown",
   "id": "f81fd966",
   "metadata": {},
   "source": [
    "Correlation with label, a high absolute value means the feature is a good indicator of signal.\n",
    "We see the polynomial features sometimes exceed the non-polynomial ones."
   ]
  },
  {
   "cell_type": "code",
   "execution_count": 53,
   "id": "0eec7b09",
   "metadata": {},
   "outputs": [
    {
     "data": {
      "text/plain": "<AxesSubplot:>"
     },
     "execution_count": 53,
     "metadata": {},
     "output_type": "execute_result"
    },
    {
     "data": {
      "text/plain": "<Figure size 432x288 with 1 Axes>",
      "image/png": "[encoded data removed]"
     },
     "metadata": {
      "needs_background": "light"
     },
     "output_type": "display_data"
    }
   ],
   "source": [
    "X_train.corrwith(y_train).plot(kind='barh')"
   ]
  },
  {
   "cell_type": "markdown",
   "id": "a4e37950",
   "metadata": {},
   "source": [
    "## PCA and further analysis\n",
    "We see $\\tau_{j_1}, \\tau_{j_2}, m_{j_1}, m_{j_2}$ contains the most variance followed by $\\vec{p}_{j_1}, \\vec{p}_{j_2}$"
   ]
  },
  {
   "cell_type": "code",
   "execution_count": 54,
   "id": "901e8a4c",
   "metadata": {
    "scrolled": true
   },
   "outputs": [
    {
     "name": "stdout",
     "output_type": "stream",
     "text": [
      "             PC0       PC1       PC2       PC3       PC4       PC5       PC6  \\\n",
      "1      -0.000000  0.000000  0.000000 -0.000000 -0.000000 -0.000000 -0.000000   \n",
      "pxj1    0.289583 -0.691997 -0.014328 -0.000795 -0.000437  0.000073 -0.641751   \n",
      "pyj1    0.692125  0.289517  0.000063 -0.003423 -0.000178 -0.000088  0.158979   \n",
      "pzj1   -0.001732  0.012812 -0.685228  0.728214  0.000193 -0.000162 -0.000179   \n",
      "mj1     0.000153  0.000134  0.000099 -0.000063  0.732616  0.170618 -0.000786   \n",
      "tau1j1  0.000146  0.000055  0.000078 -0.000061  0.607740  0.148813 -0.000182   \n",
      "tau2j1 -0.000012 -0.000015  0.000009 -0.000019  0.173732  0.043608  0.000267   \n",
      "tau3j1 -0.000002  0.000007  0.000003 -0.000011  0.100120  0.023910  0.000106   \n",
      "pxj2   -0.255036  0.609812  0.012692  0.000408 -0.000582  0.000137 -0.728282   \n",
      "pyj2   -0.609907 -0.255216 -0.000008  0.002993  0.000042  0.000440  0.180241   \n",
      "pzj2    0.008448 -0.012218  0.728077  0.685334 -0.000016 -0.000060 -0.000114   \n",
      "mj2     0.000244  0.000027 -0.000084  0.000162 -0.176736  0.729246  0.000090   \n",
      "tau1j2  0.000164  0.000076 -0.000049  0.000094 -0.142768  0.610081  0.000286   \n",
      "tau2j2  0.000077  0.000047 -0.000025  0.000011 -0.039434  0.178405 -0.000040   \n",
      "tau3j2  0.000051  0.000017 -0.000017  0.000007 -0.023358  0.102194 -0.000051   \n",
      "\n",
      "             PC7       PC8       PC9      PC10      PC11          PC12  \\\n",
      "1       0.000000 -0.000000  0.000000  0.000000 -0.000000  0.000000e+00   \n",
      "pxj1   -0.158844  0.000340  0.000104  0.000066  0.000096  3.262521e-05   \n",
      "pyj1   -0.641761  0.000014  0.000200 -0.000072 -0.000148  4.902289e-05   \n",
      "pzj1   -0.000084 -0.000006  0.000021  0.000026  0.000014  1.544377e-06   \n",
      "mj1    -0.000169 -0.517239  0.102858 -0.362582  0.156235  1.309878e-02   \n",
      "tau1j1 -0.000125  0.370206 -0.231773  0.591416 -0.259510 -2.481196e-02   \n",
      "tau2j1  0.000132  0.660632  0.256884 -0.401991  0.179064  5.208500e-01   \n",
      "tau3j1 -0.000008  0.384711  0.169550 -0.268623  0.114560 -8.516158e-01   \n",
      "pxj2   -0.180359  0.000450  0.000051  0.000070  0.000055  5.072259e-05   \n",
      "pyj2   -0.728273 -0.000071  0.000237 -0.000042 -0.000236  3.892403e-05   \n",
      "pzj2   -0.000013  0.000012  0.000028  0.000006 -0.000005 -1.193727e-06   \n",
      "mj2     0.000242  0.044277 -0.412281 -0.354754 -0.372875  3.930311e-09   \n",
      "tau1j2  0.000120 -0.030584  0.230752  0.382316  0.637546 -3.677204e-03   \n",
      "tau2j2  0.000340 -0.078238  0.673951  0.104982 -0.470048  3.114789e-02   \n",
      "tau3j2  0.000309 -0.044231  0.404392  0.044381 -0.310824 -4.116824e-02   \n",
      "\n",
      "                PC13  PC14  \n",
      "1      -0.000000e+00   1.0  \n",
      "pxj1    3.527702e-06   0.0  \n",
      "pyj1   -5.867433e-05   0.0  \n",
      "pzj1    1.017070e-06   0.0  \n",
      "mj1    -4.660591e-04   0.0  \n",
      "tau1j1 -1.362325e-03   0.0  \n",
      "tau2j1 -2.337700e-02   0.0  \n",
      "tau3j1  4.607396e-02   0.0  \n",
      "pxj2   -1.091742e-05   0.0  \n",
      "pyj2   -6.737208e-05   0.0  \n",
      "pzj2   -9.538005e-08   0.0  \n",
      "mj2     1.190607e-02   0.0  \n",
      "tau1j2 -2.433739e-02   0.0  \n",
      "tau2j2  5.228283e-01   0.0  \n",
      "tau3j2 -8.504382e-01   0.0  \n"
     ]
    },
    {
     "data": {
      "text/plain": "<Figure size 432x288 with 1 Axes>",
      "image/png": "[encoded data removed]"
     },
     "metadata": {
      "needs_background": "light"
     },
     "output_type": "display_data"
    }
   ],
   "source": [
    "pca = PCA(n_components=X.shape[1])\n",
    "pca.fit(X)\n",
    "\n",
    "# Reformat and view results\n",
    "loadings = pd.DataFrame(pca.components_.T,\n",
    "columns=['PC%s' % _ for _ in range(len(X.columns))],\n",
    "index=X.columns)\n",
    "print(loadings)\n",
    "\n",
    "plt.plot(pca.explained_variance_ratio_)\n",
    "plt.yscale('log')\n",
    "plt.ylabel('Explained Variance')\n",
    "plt.xlabel('Components')\n",
    "plt.show()"
   ]
  },
  {
   "cell_type": "markdown",
   "id": "df900667",
   "metadata": {},
   "source": [
    "Rotating into the PCs we see the PCs that differentiate well between signal and background: 1, 6, 8, 10, 11"
   ]
  },
  {
   "cell_type": "code",
   "execution_count": 11,
   "id": "f76ad6c9",
   "metadata": {},
   "outputs": [
    {
     "name": "stderr",
     "output_type": "stream",
     "text": [
      "/Users/rotem/opt/anaconda3/envs/NAF/lib/python2.7/site-packages/numpy/lib/function_base.py:2530: RuntimeWarning: invalid value encountered in true_divide\n",
      "  c /= stddev[:, None]\n",
      "/Users/rotem/opt/anaconda3/envs/NAF/lib/python2.7/site-packages/numpy/lib/function_base.py:2531: RuntimeWarning: invalid value encountered in true_divide\n",
      "  c /= stddev[None, :]\n"
     ]
    },
    {
     "data": {
      "image/png": "[encoded data removed]",
      "text/plain": "<Figure size 432x288 with 1 Axes>"
     },
     "metadata": {
      "needs_background": "light"
     },
     "output_type": "display_data"
    }
   ],
   "source": [
    "X_pca = pca.transform(X)\n",
    "plt.plot(np.linspace(0, X.shape[1]-1, X.shape[1]), np.abs(np.corrcoef(X_pca.T, y)[:-1, -1]), '.')\n",
    "plt.xlabel(\"PC\")\n",
    "plt.ylabel(r\"$|\\rho|$\")\n",
    "plt.yscale('log')"
   ]
  },
  {
   "cell_type": "markdown",
   "id": "063f56c4",
   "metadata": {},
   "source": [
    "## Linear classifier test\n",
    "To assess the quality of the features we use we can check how well a linear classifier fits the label of the training set to them.\n",
    "\n",
    "Some simple NNs and decision trees are tested for reference.\n",
    "\n",
    "When successful, this means that the non-linearity differentiating between the signal and background is captured by the features."
   ]
  },
  {
   "cell_type": "code",
   "execution_count": 16,
   "id": "cd811e6c",
   "metadata": {},
   "outputs": [],
   "source": [
    "models = {\"Linear_1e-5\": linear_model.SGDClassifier(alpha=1e-5)}\n",
    "#          \"BDT_1_100\":  AdaBoostClassifier(DecisionTreeClassifier(max_depth=2), n_estimators=100),\n",
    "#          \"MLP_10_10\": MLPClassifier(hidden_layer_sizes=(10, 10)),\n",
    "#          \"MLP_5_5\": MLPClassifier(hidden_layer_sizes=(5, 5))}\n",
    "\n",
    "for name in models:\n",
    "    models[name].fit(X_train, y_train)"
   ]
  },
  {
   "cell_type": "markdown",
   "id": "74af5e51",
   "metadata": {},
   "source": [
    "A ROC curve is used to evaluate the effectiveness of the classification."
   ]
  },
  {
   "cell_type": "code",
   "execution_count": 18,
   "id": "e8c99eeb",
   "metadata": {
    "scrolled": true
   },
   "outputs": [
    {
     "name": "stdout",
     "output_type": "stream",
     "text": [
      "Linear_1e-5: 0.0864454545455\n"
     ]
    },
    {
     "data": {
      "text/plain": "Text(0,0.5,'TPR')"
     },
     "execution_count": 18,
     "metadata": {},
     "output_type": "execute_result"
    },
    {
     "data": {
      "image/png": "[encoded data removed]",
      "text/plain": "<Figure size 432x288 with 1 Axes>"
     },
     "metadata": {
      "needs_background": "light"
     },
     "output_type": "display_data"
    }
   ],
   "source": [
    "for name in models:\n",
    "    model = models[name]\n",
    "    mse = metrics.mean_squared_error(y_test, model.predict(X_test))\n",
    "    print(f\"{name}: {mse}\")\n",
    "    tpr, fpr, thresh = metrics.roc_curve(y_test, model.predict(X_test))\n",
    "    plt.plot(fpr, tpr, label=name)\n",
    "plt.legend()\n",
    "plt.xlabel(\"FPR\")\n",
    "plt.ylabel(\"TPR\")"
   ]
  },
  {
   "cell_type": "markdown",
   "id": "85f12a3e",
   "metadata": {},
   "source": [
    "# VAE\n",
    "Now lets give it a go using a $\\beta$-VAE."
   ]
  },
  {
   "cell_type": "code",
   "execution_count": 21,
   "id": "94d75642",
   "metadata": {},
   "outputs": [
    {
     "name": "stderr",
     "output_type": "stream",
     "text": [
      "  0%|          | 0/1 [00:00<?, ?it/s]\n",
      "  0%|          | 0/8594 [00:00<?, ?it/s]\u001B[A/Users/rotem/opt/anaconda3/envs/NAF/lib/python2.7/site-packages/torch/nn/_reduction.py:43: UserWarning: size_average and reduce args will be deprecated, please use reduction='sum' instead.\n",
      "  warnings.warn(warning.format(ret))\n",
      "  0%|          | 0/8594 [00:00<?, ?it/s]\n",
      "  0%|          | 0/1 [00:00<?, ?it/s]\n"
     ]
    },
    {
     "ename": "AttributeError",
     "evalue": "'Tensor' object has no attribute 'isinf'",
     "output_type": "error",
     "traceback": [
      "\u001B[0;31m\u001B[0m",
      "\u001B[0;31mAttributeError\u001B[0mTraceback (most recent call last)",
      "\u001B[0;32m<ipython-input-21-7f0ad28635ea>\u001B[0m in \u001B[0;36m<module>\u001B[0;34m()\u001B[0m\n\u001B[1;32m     15\u001B[0m \u001B[0;34m\u001B[0m\u001B[0m\n\u001B[1;32m     16\u001B[0m \u001B[0mdataloader\u001B[0m \u001B[0;34m=\u001B[0m \u001B[0mdata_utils\u001B[0m\u001B[0;34m.\u001B[0m\u001B[0mDataLoader\u001B[0m\u001B[0;34m(\u001B[0m\u001B[0mdataset\u001B[0m\u001B[0;34m,\u001B[0m \u001B[0mbatch_size\u001B[0m\u001B[0;34m=\u001B[0m\u001B[0mBATCH_SIZE\u001B[0m\u001B[0;34m,\u001B[0m \u001B[0mshuffle\u001B[0m\u001B[0;34m=\u001B[0m\u001B[0mTrue\u001B[0m\u001B[0;34m)\u001B[0m\u001B[0;34m\u001B[0m\u001B[0m\n\u001B[0;32m---> 17\u001B[0;31m \u001B[0mlosses\u001B[0m \u001B[0;34m=\u001B[0m \u001B[0mmodel\u001B[0m\u001B[0;34m.\u001B[0m\u001B[0mtrain\u001B[0m\u001B[0;34m(\u001B[0m\u001B[0mdataloader\u001B[0m\u001B[0;34m=\u001B[0m\u001B[0mdataloader\u001B[0m\u001B[0;34m,\u001B[0m \u001B[0moptimizer\u001B[0m\u001B[0;34m=\u001B[0m\u001B[0moptimizer\u001B[0m\u001B[0;34m,\u001B[0m \u001B[0mepochs\u001B[0m\u001B[0;34m=\u001B[0m\u001B[0mEPOCHS\u001B[0m\u001B[0;34m)\u001B[0m\u001B[0;34m\u001B[0m\u001B[0m\n\u001B[0m",
      "\u001B[0;32m/Users/rotem/PycharmProjects/VAE/vae_model.pyc\u001B[0m in \u001B[0;36mtrain\u001B[0;34m(self, dataloader, optimizer, epochs)\u001B[0m\n\u001B[1;32m     84\u001B[0m                 \u001B[0mloss\u001B[0m \u001B[0;34m=\u001B[0m \u001B[0mself\u001B[0m\u001B[0;34m.\u001B[0m\u001B[0mcriterion\u001B[0m\u001B[0;34m(\u001B[0m\u001B[0moutput\u001B[0m\u001B[0;34m,\u001B[0m \u001B[0mX\u001B[0m\u001B[0;34m)\u001B[0m\u001B[0;34m\u001B[0m\u001B[0m\n\u001B[1;32m     85\u001B[0m                 \u001B[0;31m# Back-prop\u001B[0m\u001B[0;34m\u001B[0m\u001B[0;34m\u001B[0m\u001B[0m\n\u001B[0;32m---> 86\u001B[0;31m                 \u001B[0;32mif\u001B[0m \u001B[0;32mnot\u001B[0m \u001B[0mloss\u001B[0m\u001B[0;34m.\u001B[0m\u001B[0misinf\u001B[0m\u001B[0;34m(\u001B[0m\u001B[0;34m)\u001B[0m\u001B[0;34m:\u001B[0m\u001B[0;34m\u001B[0m\u001B[0m\n\u001B[0m\u001B[1;32m     87\u001B[0m                     \u001B[0moptimizer\u001B[0m\u001B[0;34m.\u001B[0m\u001B[0mzero_grad\u001B[0m\u001B[0;34m(\u001B[0m\u001B[0;34m)\u001B[0m\u001B[0;34m\u001B[0m\u001B[0m\n\u001B[1;32m     88\u001B[0m                     \u001B[0mloss\u001B[0m\u001B[0;34m.\u001B[0m\u001B[0mbackward\u001B[0m\u001B[0;34m(\u001B[0m\u001B[0;34m)\u001B[0m\u001B[0;34m\u001B[0m\u001B[0m\n",
      "\u001B[0;31mAttributeError\u001B[0m: 'Tensor' object has no attribute 'isinf'"
     ]
    }
   ],
   "source": [
    "importlib.reload(sys.modules['vae_model'])\n",
    "importlib.reload(sys.modules['hdf_dataset'])\n",
    "from vae_model import VAE\n",
    "from hdf_dataset import HDFDataset\n",
    "\n",
    "EPOCHS = 1\n",
    "BATCH_SIZE = 128\n",
    "BETA = 0.5\n",
    "LATENT_SPACE_DIM = 1\n",
    "LR = 1e-6\n",
    "dataset = HDFDataset(\"events_anomalydetection_v2.features.h5\")\n",
    "\n",
    "model = VAE(latent_dim=LATENT_SPACE_DIM, input_dim=dataset.num_features(), beta=BETA)\n",
    "optimizer = torch.optim.Adam(model.parameters(), lr=LR)\n",
    "\n",
    "dataloader = data_utils.DataLoader(dataset, batch_size=BATCH_SIZE, shuffle=True)\n",
    "losses = model.train(dataloader=dataloader, optimizer=optimizer, epochs=EPOCHS)"
   ]
  },
  {
   "cell_type": "code",
   "execution_count": 40,
   "id": "91ae8f26",
   "metadata": {},
   "outputs": [
    {
     "data": {
      "text/plain": [
       "409332704.0"
      ]
     },
     "execution_count": 40,
     "metadata": {},
     "output_type": "execute_result"
    }
   ],
   "source": [
    "losses[-1]"
   ]
  },
  {
   "cell_type": "code",
   "execution_count": 42,
   "id": "41ccc594",
   "metadata": {},
   "outputs": [
    {
     "data": {
      "image/png": "[encoded data removed]",
      "text/plain": [
       "<Figure size 432x288 with 1 Axes>"
      ]
     },
     "metadata": {
      "needs_background": "light"
     },
     "output_type": "display_data"
    }
   ],
   "source": [
    "plt.plot(losses)\n",
    "plt.yscale('log')"
   ]
  },
  {
   "cell_type": "markdown",
   "id": "7c3a6cd1",
   "metadata": {
    "pycharm": {
     "name": "#%% md\n"
    }
   },
   "source": [
    "## Creating bins and datasets\n",
    "We create the different bins from the data for training purposes, $m_{jj}$ is chosen as the discriminatory variable"
   ]
  },
  {
   "cell_type": "code",
   "execution_count": 4,
   "outputs": [
    {
     "data": {
      "text/plain": "<matplotlib.axes._subplots.AxesSubplot at 0x7faf391e6510>"
     },
     "execution_count": 4,
     "metadata": {},
     "output_type": "execute_result"
    },
    {
     "data": {
      "image/png": "[encoded data removed]",
      "text/plain": "<Figure size 432x288 with 1 Axes>"
     },
     "metadata": {
      "needs_background": "light"
     },
     "output_type": "display_data"
    }
   ],
   "source": [
    "def get_mjj(df):\n",
    "    e1sq = df['pxj1']**2 + df['pyj1']**2 + df['pzj1']**2 + df['mj1']**2\n",
    "    e2sq = df['pxj2']**2 + df['pyj2']**2 + df['pzj2']**2 + df['mj2']**2\n",
    "    ptotsq = (df['pxj1'] + df['pxj2'])**2 + (df['pyj1'] + df['pyj2'])**2 + (df['pzj1'] + df['pzj2'])**2\n",
    "    mjjsq = e1sq + e2sq - ptotsq\n",
    "    mjjsq[mjjsq < 0] = 0\n",
    "    return mjjsq**0.5\n",
    "\n",
    "signal = df['label'] == 1\n",
    "mjj = get_mjj(df)\n",
    "mjj = mjj / mjj[signal].mean() * 3500 # seems not to match the expected value for some reason so I fixed it\n",
    "mjj.hist(bins=50)\n",
    "mjj[df['label'] == 0].hist(bins=50)\n",
    "mjj[signal].hist(bins=100)"
   ],
   "metadata": {
    "collapsed": false,
    "pycharm": {
     "name": "#%%\n"
    }
   }
  },
  {
   "cell_type": "code",
   "execution_count": 7,
   "outputs": [
    {
     "data": {
      "text/plain": "[(3533.57276669, 3838.87087541], (3049.41386997, 3269.1459151], (3269.1459151, 3533.57276669], (1775.20493395, 2366.80126755], (4262.42752501, 10605.6093931], (2366.80126755, 2655.74295419], (2655.74295419, 2855.56913405], (3838.87087541, 4262.42752501], (-1e-100, 1775.20493395], (2855.56913405, 3049.41386997]]\nCategories (10, interval[float64]): [(-1e-100, 1775.20493395] < (1775.20493395, 2366.80126755] < (2366.80126755, 2655.74295419] < (2655.74295419, 2855.56913405] ... (3269.1459151, 3533.57276669] < (3533.57276669, 3838.87087541] < (3838.87087541, 4262.42752501] < (4262.42752501, 10605.6093931]]"
     },
     "execution_count": 7,
     "metadata": {},
     "output_type": "execute_result"
    }
   ],
   "source": [
    "q=10\n",
    "df[\"mjj_bins\"] = pd.qcut(mjj, q=q, precision=100)\n",
    "df[\"mjj_bin_num\"] = pd.qcut(mjj, q=q, labels=[i for i in range(1, q+1)])\n",
    "df[\"mjj_bins\"].unique()\n",
    "# important bins are 6 to 9"
   ],
   "metadata": {
    "collapsed": false,
    "pycharm": {
     "name": "#%%\n"
    }
   }
  },
  {
   "cell_type": "code",
   "execution_count": 6,
   "outputs": [],
   "source": [
    "# Need to make sure it is done with python 2.7 for unpickle to work\n",
    "for i in range(int(q/2), q+1):\n",
    "    x = df[df[\"mjj_bin_num\"] == i].to_numpy()[:,:-3]\n",
    "    np.save(\"../NAF/external_maf/datasets/data/lhc/lhc_mjj_bin_{}of{}.npy\".format(i,q), x, allow_pickle=True)"
   ],
   "metadata": {
    "collapsed": false,
    "pycharm": {
     "name": "#%%\n"
    }
   }
  },
  {
   "cell_type": "markdown",
   "source": [
    "For sanity plotting the jet mass difference"
   ],
   "metadata": {
    "collapsed": false
   }
  },
  {
   "cell_type": "code",
   "execution_count": 48,
   "outputs": [
    {
     "data": {
      "text/plain": "<AxesSubplot:>"
     },
     "execution_count": 48,
     "metadata": {},
     "output_type": "execute_result"
    },
    {
     "data": {
      "text/plain": "<Figure size 432x288 with 1 Axes>",
      "image/png": "[encoded data removed]"
     },
     "metadata": {
      "needs_background": "light"
     },
     "output_type": "display_data"
    }
   ],
   "source": [
    "fig, ax = plt.subplots()\n",
    "np.abs(df['mj1']-df['mj2'])[~signal].hist(bins=100)\n",
    "np.abs(df['mj1']-df['mj2'])[signal].hist(bins=100)"
   ],
   "metadata": {
    "collapsed": false,
    "pycharm": {
     "name": "#%%\n"
    }
   }
  },
  {
   "cell_type": "code",
   "execution_count": null,
   "outputs": [],
   "source": [],
   "metadata": {
    "collapsed": false,
    "pycharm": {
     "name": "#%%\n"
    }
   }
  }
 ],
 "metadata": {
  "kernelspec": {
   "name": "conda-env-NAF-py",
   "language": "python",
   "display_name": "Python [conda env:NAF]"
  },
  "language_info": {
   "codemirror_mode": {
    "name": "ipython",
    "version": 3
   },
   "file_extension": ".py",
   "mimetype": "text/x-python",
   "name": "python",
   "nbconvert_exporter": "python",
   "pygments_lexer": "ipython3",
   "version": "3.8.8"
  }
 },
 "nbformat": 4,
 "nbformat_minor": 5
}